{
  "cells": [
    {
      "metadata": {
        "trusted": true
      },
      "cell_type": "code",
      "source": "# Import libraries \nimport numpy as np\nimport pandas as pd\nfrom sklearn.model_selection import train_test_split\nfrom sklearn.linear_model import LogisticRegression \nfrom sklearn.metrics import accuracy_score, auc, confusion_matrix, precision_score, recall_score, roc_curve\nimport matplotlib.pyplot as plt\nimport seaborn as sns",
      "execution_count": 44,
      "outputs": []
    },
    {
      "metadata": {
        "trusted": true
      },
      "cell_type": "code",
      "source": "data=pd.read_csv(\"bank-additional.csv\", sep=\";\")",
      "execution_count": 45,
      "outputs": []
    },
    {
      "metadata": {
        "trusted": true
      },
      "cell_type": "code",
      "source": "data.shape",
      "execution_count": 46,
      "outputs": [
        {
          "output_type": "execute_result",
          "execution_count": 46,
          "data": {
            "text/plain": "(4119, 21)"
          },
          "metadata": {}
        }
      ]
    },
    {
      "metadata": {
        "trusted": true
      },
      "cell_type": "code",
      "source": "data.head(20)",
      "execution_count": 47,
      "outputs": [
        {
          "output_type": "execute_result",
          "execution_count": 47,
          "data": {
            "text/html": "<div>\n<style scoped>\n    .dataframe tbody tr th:only-of-type {\n        vertical-align: middle;\n    }\n\n    .dataframe tbody tr th {\n        vertical-align: top;\n    }\n\n    .dataframe thead th {\n        text-align: right;\n    }\n</style>\n<table border=\"1\" class=\"dataframe\">\n  <thead>\n    <tr style=\"text-align: right;\">\n      <th></th>\n      <th>age</th>\n      <th>job</th>\n      <th>marital</th>\n      <th>education</th>\n      <th>default</th>\n      <th>housing</th>\n      <th>loan</th>\n      <th>contact</th>\n      <th>month</th>\n      <th>day_of_week</th>\n      <th>...</th>\n      <th>campaign</th>\n      <th>pdays</th>\n      <th>previous</th>\n      <th>poutcome</th>\n      <th>emp.var.rate</th>\n      <th>cons.price.idx</th>\n      <th>cons.conf.idx</th>\n      <th>euribor3m</th>\n      <th>nr.employed</th>\n      <th>y</th>\n    </tr>\n  </thead>\n  <tbody>\n    <tr>\n      <th>0</th>\n      <td>30</td>\n      <td>blue-collar</td>\n      <td>married</td>\n      <td>basic.9y</td>\n      <td>no</td>\n      <td>yes</td>\n      <td>no</td>\n      <td>cellular</td>\n      <td>may</td>\n      <td>fri</td>\n      <td>...</td>\n      <td>2</td>\n      <td>999</td>\n      <td>0</td>\n      <td>nonexistent</td>\n      <td>-1.8</td>\n      <td>92.893</td>\n      <td>-46.2</td>\n      <td>1.313</td>\n      <td>5099.1</td>\n      <td>no</td>\n    </tr>\n    <tr>\n      <th>1</th>\n      <td>39</td>\n      <td>services</td>\n      <td>single</td>\n      <td>high.school</td>\n      <td>no</td>\n      <td>no</td>\n      <td>no</td>\n      <td>telephone</td>\n      <td>may</td>\n      <td>fri</td>\n      <td>...</td>\n      <td>4</td>\n      <td>999</td>\n      <td>0</td>\n      <td>nonexistent</td>\n      <td>1.1</td>\n      <td>93.994</td>\n      <td>-36.4</td>\n      <td>4.855</td>\n      <td>5191.0</td>\n      <td>no</td>\n    </tr>\n    <tr>\n      <th>2</th>\n      <td>25</td>\n      <td>services</td>\n      <td>married</td>\n      <td>high.school</td>\n      <td>no</td>\n      <td>yes</td>\n      <td>no</td>\n      <td>telephone</td>\n      <td>jun</td>\n      <td>wed</td>\n      <td>...</td>\n      <td>1</td>\n      <td>999</td>\n      <td>0</td>\n      <td>nonexistent</td>\n      <td>1.4</td>\n      <td>94.465</td>\n      <td>-41.8</td>\n      <td>4.962</td>\n      <td>5228.1</td>\n      <td>no</td>\n    </tr>\n    <tr>\n      <th>3</th>\n      <td>38</td>\n      <td>services</td>\n      <td>married</td>\n      <td>basic.9y</td>\n      <td>no</td>\n      <td>unknown</td>\n      <td>unknown</td>\n      <td>telephone</td>\n      <td>jun</td>\n      <td>fri</td>\n      <td>...</td>\n      <td>3</td>\n      <td>999</td>\n      <td>0</td>\n      <td>nonexistent</td>\n      <td>1.4</td>\n      <td>94.465</td>\n      <td>-41.8</td>\n      <td>4.959</td>\n      <td>5228.1</td>\n      <td>no</td>\n    </tr>\n    <tr>\n      <th>4</th>\n      <td>47</td>\n      <td>admin.</td>\n      <td>married</td>\n      <td>university.degree</td>\n      <td>no</td>\n      <td>yes</td>\n      <td>no</td>\n      <td>cellular</td>\n      <td>nov</td>\n      <td>mon</td>\n      <td>...</td>\n      <td>1</td>\n      <td>999</td>\n      <td>0</td>\n      <td>nonexistent</td>\n      <td>-0.1</td>\n      <td>93.200</td>\n      <td>-42.0</td>\n      <td>4.191</td>\n      <td>5195.8</td>\n      <td>no</td>\n    </tr>\n    <tr>\n      <th>5</th>\n      <td>32</td>\n      <td>services</td>\n      <td>single</td>\n      <td>university.degree</td>\n      <td>no</td>\n      <td>no</td>\n      <td>no</td>\n      <td>cellular</td>\n      <td>sep</td>\n      <td>thu</td>\n      <td>...</td>\n      <td>3</td>\n      <td>999</td>\n      <td>2</td>\n      <td>failure</td>\n      <td>-1.1</td>\n      <td>94.199</td>\n      <td>-37.5</td>\n      <td>0.884</td>\n      <td>4963.6</td>\n      <td>no</td>\n    </tr>\n    <tr>\n      <th>6</th>\n      <td>32</td>\n      <td>admin.</td>\n      <td>single</td>\n      <td>university.degree</td>\n      <td>no</td>\n      <td>yes</td>\n      <td>no</td>\n      <td>cellular</td>\n      <td>sep</td>\n      <td>mon</td>\n      <td>...</td>\n      <td>4</td>\n      <td>999</td>\n      <td>0</td>\n      <td>nonexistent</td>\n      <td>-1.1</td>\n      <td>94.199</td>\n      <td>-37.5</td>\n      <td>0.879</td>\n      <td>4963.6</td>\n      <td>no</td>\n    </tr>\n    <tr>\n      <th>7</th>\n      <td>41</td>\n      <td>entrepreneur</td>\n      <td>married</td>\n      <td>university.degree</td>\n      <td>unknown</td>\n      <td>yes</td>\n      <td>no</td>\n      <td>cellular</td>\n      <td>nov</td>\n      <td>mon</td>\n      <td>...</td>\n      <td>2</td>\n      <td>999</td>\n      <td>0</td>\n      <td>nonexistent</td>\n      <td>-0.1</td>\n      <td>93.200</td>\n      <td>-42.0</td>\n      <td>4.191</td>\n      <td>5195.8</td>\n      <td>no</td>\n    </tr>\n    <tr>\n      <th>8</th>\n      <td>31</td>\n      <td>services</td>\n      <td>divorced</td>\n      <td>professional.course</td>\n      <td>no</td>\n      <td>no</td>\n      <td>no</td>\n      <td>cellular</td>\n      <td>nov</td>\n      <td>tue</td>\n      <td>...</td>\n      <td>1</td>\n      <td>999</td>\n      <td>1</td>\n      <td>failure</td>\n      <td>-0.1</td>\n      <td>93.200</td>\n      <td>-42.0</td>\n      <td>4.153</td>\n      <td>5195.8</td>\n      <td>no</td>\n    </tr>\n    <tr>\n      <th>9</th>\n      <td>35</td>\n      <td>blue-collar</td>\n      <td>married</td>\n      <td>basic.9y</td>\n      <td>unknown</td>\n      <td>no</td>\n      <td>no</td>\n      <td>telephone</td>\n      <td>may</td>\n      <td>thu</td>\n      <td>...</td>\n      <td>1</td>\n      <td>999</td>\n      <td>0</td>\n      <td>nonexistent</td>\n      <td>1.1</td>\n      <td>93.994</td>\n      <td>-36.4</td>\n      <td>4.855</td>\n      <td>5191.0</td>\n      <td>no</td>\n    </tr>\n    <tr>\n      <th>10</th>\n      <td>25</td>\n      <td>services</td>\n      <td>single</td>\n      <td>basic.6y</td>\n      <td>unknown</td>\n      <td>yes</td>\n      <td>no</td>\n      <td>cellular</td>\n      <td>jul</td>\n      <td>thu</td>\n      <td>...</td>\n      <td>1</td>\n      <td>999</td>\n      <td>0</td>\n      <td>nonexistent</td>\n      <td>1.4</td>\n      <td>93.918</td>\n      <td>-42.7</td>\n      <td>4.958</td>\n      <td>5228.1</td>\n      <td>no</td>\n    </tr>\n    <tr>\n      <th>11</th>\n      <td>36</td>\n      <td>self-employed</td>\n      <td>single</td>\n      <td>basic.4y</td>\n      <td>no</td>\n      <td>no</td>\n      <td>no</td>\n      <td>cellular</td>\n      <td>jul</td>\n      <td>thu</td>\n      <td>...</td>\n      <td>1</td>\n      <td>999</td>\n      <td>0</td>\n      <td>nonexistent</td>\n      <td>1.4</td>\n      <td>93.918</td>\n      <td>-42.7</td>\n      <td>4.968</td>\n      <td>5228.1</td>\n      <td>no</td>\n    </tr>\n    <tr>\n      <th>12</th>\n      <td>36</td>\n      <td>admin.</td>\n      <td>married</td>\n      <td>high.school</td>\n      <td>no</td>\n      <td>no</td>\n      <td>no</td>\n      <td>telephone</td>\n      <td>may</td>\n      <td>wed</td>\n      <td>...</td>\n      <td>2</td>\n      <td>999</td>\n      <td>0</td>\n      <td>nonexistent</td>\n      <td>1.1</td>\n      <td>93.994</td>\n      <td>-36.4</td>\n      <td>4.859</td>\n      <td>5191.0</td>\n      <td>no</td>\n    </tr>\n    <tr>\n      <th>13</th>\n      <td>47</td>\n      <td>blue-collar</td>\n      <td>married</td>\n      <td>basic.4y</td>\n      <td>no</td>\n      <td>yes</td>\n      <td>no</td>\n      <td>telephone</td>\n      <td>jun</td>\n      <td>thu</td>\n      <td>...</td>\n      <td>2</td>\n      <td>999</td>\n      <td>0</td>\n      <td>nonexistent</td>\n      <td>1.4</td>\n      <td>94.465</td>\n      <td>-41.8</td>\n      <td>4.958</td>\n      <td>5228.1</td>\n      <td>no</td>\n    </tr>\n    <tr>\n      <th>14</th>\n      <td>29</td>\n      <td>admin.</td>\n      <td>single</td>\n      <td>high.school</td>\n      <td>no</td>\n      <td>no</td>\n      <td>no</td>\n      <td>cellular</td>\n      <td>may</td>\n      <td>fri</td>\n      <td>...</td>\n      <td>2</td>\n      <td>999</td>\n      <td>0</td>\n      <td>nonexistent</td>\n      <td>-1.8</td>\n      <td>92.893</td>\n      <td>-46.2</td>\n      <td>1.313</td>\n      <td>5099.1</td>\n      <td>no</td>\n    </tr>\n    <tr>\n      <th>15</th>\n      <td>27</td>\n      <td>services</td>\n      <td>single</td>\n      <td>university.degree</td>\n      <td>no</td>\n      <td>no</td>\n      <td>no</td>\n      <td>cellular</td>\n      <td>jul</td>\n      <td>wed</td>\n      <td>...</td>\n      <td>2</td>\n      <td>999</td>\n      <td>0</td>\n      <td>nonexistent</td>\n      <td>1.4</td>\n      <td>93.918</td>\n      <td>-42.7</td>\n      <td>4.963</td>\n      <td>5228.1</td>\n      <td>no</td>\n    </tr>\n    <tr>\n      <th>16</th>\n      <td>44</td>\n      <td>admin.</td>\n      <td>divorced</td>\n      <td>university.degree</td>\n      <td>no</td>\n      <td>no</td>\n      <td>no</td>\n      <td>cellular</td>\n      <td>jul</td>\n      <td>wed</td>\n      <td>...</td>\n      <td>6</td>\n      <td>999</td>\n      <td>0</td>\n      <td>nonexistent</td>\n      <td>1.4</td>\n      <td>93.918</td>\n      <td>-42.7</td>\n      <td>4.957</td>\n      <td>5228.1</td>\n      <td>no</td>\n    </tr>\n    <tr>\n      <th>17</th>\n      <td>46</td>\n      <td>admin.</td>\n      <td>divorced</td>\n      <td>university.degree</td>\n      <td>no</td>\n      <td>yes</td>\n      <td>no</td>\n      <td>telephone</td>\n      <td>jul</td>\n      <td>mon</td>\n      <td>...</td>\n      <td>4</td>\n      <td>999</td>\n      <td>0</td>\n      <td>nonexistent</td>\n      <td>1.4</td>\n      <td>93.918</td>\n      <td>-42.7</td>\n      <td>4.962</td>\n      <td>5228.1</td>\n      <td>no</td>\n    </tr>\n    <tr>\n      <th>18</th>\n      <td>45</td>\n      <td>entrepreneur</td>\n      <td>married</td>\n      <td>university.degree</td>\n      <td>unknown</td>\n      <td>yes</td>\n      <td>yes</td>\n      <td>cellular</td>\n      <td>aug</td>\n      <td>mon</td>\n      <td>...</td>\n      <td>2</td>\n      <td>999</td>\n      <td>0</td>\n      <td>nonexistent</td>\n      <td>1.4</td>\n      <td>93.444</td>\n      <td>-36.1</td>\n      <td>4.965</td>\n      <td>5228.1</td>\n      <td>no</td>\n    </tr>\n    <tr>\n      <th>19</th>\n      <td>50</td>\n      <td>blue-collar</td>\n      <td>married</td>\n      <td>basic.4y</td>\n      <td>no</td>\n      <td>no</td>\n      <td>yes</td>\n      <td>cellular</td>\n      <td>jul</td>\n      <td>tue</td>\n      <td>...</td>\n      <td>1</td>\n      <td>999</td>\n      <td>0</td>\n      <td>nonexistent</td>\n      <td>1.4</td>\n      <td>93.918</td>\n      <td>-42.7</td>\n      <td>4.961</td>\n      <td>5228.1</td>\n      <td>yes</td>\n    </tr>\n  </tbody>\n</table>\n<p>20 rows × 21 columns</p>\n</div>",
            "text/plain": "    age            job   marital            education  default  housing  \\\n0    30    blue-collar   married             basic.9y       no      yes   \n1    39       services    single          high.school       no       no   \n2    25       services   married          high.school       no      yes   \n3    38       services   married             basic.9y       no  unknown   \n4    47         admin.   married    university.degree       no      yes   \n5    32       services    single    university.degree       no       no   \n6    32         admin.    single    university.degree       no      yes   \n7    41   entrepreneur   married    university.degree  unknown      yes   \n8    31       services  divorced  professional.course       no       no   \n9    35    blue-collar   married             basic.9y  unknown       no   \n10   25       services    single             basic.6y  unknown      yes   \n11   36  self-employed    single             basic.4y       no       no   \n12   36         admin.   married          high.school       no       no   \n13   47    blue-collar   married             basic.4y       no      yes   \n14   29         admin.    single          high.school       no       no   \n15   27       services    single    university.degree       no       no   \n16   44         admin.  divorced    university.degree       no       no   \n17   46         admin.  divorced    university.degree       no      yes   \n18   45   entrepreneur   married    university.degree  unknown      yes   \n19   50    blue-collar   married             basic.4y       no       no   \n\n       loan    contact month day_of_week ...   campaign  pdays  previous  \\\n0        no   cellular   may         fri ...          2    999         0   \n1        no  telephone   may         fri ...          4    999         0   \n2        no  telephone   jun         wed ...          1    999         0   \n3   unknown  telephone   jun         fri ...          3    999         0   \n4        no   cellular   nov         mon ...          1    999         0   \n5        no   cellular   sep         thu ...          3    999         2   \n6        no   cellular   sep         mon ...          4    999         0   \n7        no   cellular   nov         mon ...          2    999         0   \n8        no   cellular   nov         tue ...          1    999         1   \n9        no  telephone   may         thu ...          1    999         0   \n10       no   cellular   jul         thu ...          1    999         0   \n11       no   cellular   jul         thu ...          1    999         0   \n12       no  telephone   may         wed ...          2    999         0   \n13       no  telephone   jun         thu ...          2    999         0   \n14       no   cellular   may         fri ...          2    999         0   \n15       no   cellular   jul         wed ...          2    999         0   \n16       no   cellular   jul         wed ...          6    999         0   \n17       no  telephone   jul         mon ...          4    999         0   \n18      yes   cellular   aug         mon ...          2    999         0   \n19      yes   cellular   jul         tue ...          1    999         0   \n\n       poutcome emp.var.rate  cons.price.idx  cons.conf.idx  euribor3m  \\\n0   nonexistent         -1.8          92.893          -46.2      1.313   \n1   nonexistent          1.1          93.994          -36.4      4.855   \n2   nonexistent          1.4          94.465          -41.8      4.962   \n3   nonexistent          1.4          94.465          -41.8      4.959   \n4   nonexistent         -0.1          93.200          -42.0      4.191   \n5       failure         -1.1          94.199          -37.5      0.884   \n6   nonexistent         -1.1          94.199          -37.5      0.879   \n7   nonexistent         -0.1          93.200          -42.0      4.191   \n8       failure         -0.1          93.200          -42.0      4.153   \n9   nonexistent          1.1          93.994          -36.4      4.855   \n10  nonexistent          1.4          93.918          -42.7      4.958   \n11  nonexistent          1.4          93.918          -42.7      4.968   \n12  nonexistent          1.1          93.994          -36.4      4.859   \n13  nonexistent          1.4          94.465          -41.8      4.958   \n14  nonexistent         -1.8          92.893          -46.2      1.313   \n15  nonexistent          1.4          93.918          -42.7      4.963   \n16  nonexistent          1.4          93.918          -42.7      4.957   \n17  nonexistent          1.4          93.918          -42.7      4.962   \n18  nonexistent          1.4          93.444          -36.1      4.965   \n19  nonexistent          1.4          93.918          -42.7      4.961   \n\n    nr.employed    y  \n0        5099.1   no  \n1        5191.0   no  \n2        5228.1   no  \n3        5228.1   no  \n4        5195.8   no  \n5        4963.6   no  \n6        4963.6   no  \n7        5195.8   no  \n8        5195.8   no  \n9        5191.0   no  \n10       5228.1   no  \n11       5228.1   no  \n12       5191.0   no  \n13       5228.1   no  \n14       5099.1   no  \n15       5228.1   no  \n16       5228.1   no  \n17       5228.1   no  \n18       5228.1   no  \n19       5228.1  yes  \n\n[20 rows x 21 columns]"
          },
          "metadata": {}
        }
      ]
    },
    {
      "metadata": {
        "trusted": true
      },
      "cell_type": "code",
      "source": "data.describe()",
      "execution_count": 48,
      "outputs": [
        {
          "output_type": "execute_result",
          "execution_count": 48,
          "data": {
            "text/html": "<div>\n<style scoped>\n    .dataframe tbody tr th:only-of-type {\n        vertical-align: middle;\n    }\n\n    .dataframe tbody tr th {\n        vertical-align: top;\n    }\n\n    .dataframe thead th {\n        text-align: right;\n    }\n</style>\n<table border=\"1\" class=\"dataframe\">\n  <thead>\n    <tr style=\"text-align: right;\">\n      <th></th>\n      <th>age</th>\n      <th>duration</th>\n      <th>campaign</th>\n      <th>pdays</th>\n      <th>previous</th>\n      <th>emp.var.rate</th>\n      <th>cons.price.idx</th>\n      <th>cons.conf.idx</th>\n      <th>euribor3m</th>\n      <th>nr.employed</th>\n    </tr>\n  </thead>\n  <tbody>\n    <tr>\n      <th>count</th>\n      <td>4119.000000</td>\n      <td>4119.000000</td>\n      <td>4119.000000</td>\n      <td>4119.000000</td>\n      <td>4119.000000</td>\n      <td>4119.000000</td>\n      <td>4119.000000</td>\n      <td>4119.000000</td>\n      <td>4119.000000</td>\n      <td>4119.000000</td>\n    </tr>\n    <tr>\n      <th>mean</th>\n      <td>40.113620</td>\n      <td>256.788055</td>\n      <td>2.537266</td>\n      <td>960.422190</td>\n      <td>0.190337</td>\n      <td>0.084972</td>\n      <td>93.579704</td>\n      <td>-40.499102</td>\n      <td>3.621356</td>\n      <td>5166.481695</td>\n    </tr>\n    <tr>\n      <th>std</th>\n      <td>10.313362</td>\n      <td>254.703736</td>\n      <td>2.568159</td>\n      <td>191.922786</td>\n      <td>0.541788</td>\n      <td>1.563114</td>\n      <td>0.579349</td>\n      <td>4.594578</td>\n      <td>1.733591</td>\n      <td>73.667904</td>\n    </tr>\n    <tr>\n      <th>min</th>\n      <td>18.000000</td>\n      <td>0.000000</td>\n      <td>1.000000</td>\n      <td>0.000000</td>\n      <td>0.000000</td>\n      <td>-3.400000</td>\n      <td>92.201000</td>\n      <td>-50.800000</td>\n      <td>0.635000</td>\n      <td>4963.600000</td>\n    </tr>\n    <tr>\n      <th>25%</th>\n      <td>32.000000</td>\n      <td>103.000000</td>\n      <td>1.000000</td>\n      <td>999.000000</td>\n      <td>0.000000</td>\n      <td>-1.800000</td>\n      <td>93.075000</td>\n      <td>-42.700000</td>\n      <td>1.334000</td>\n      <td>5099.100000</td>\n    </tr>\n    <tr>\n      <th>50%</th>\n      <td>38.000000</td>\n      <td>181.000000</td>\n      <td>2.000000</td>\n      <td>999.000000</td>\n      <td>0.000000</td>\n      <td>1.100000</td>\n      <td>93.749000</td>\n      <td>-41.800000</td>\n      <td>4.857000</td>\n      <td>5191.000000</td>\n    </tr>\n    <tr>\n      <th>75%</th>\n      <td>47.000000</td>\n      <td>317.000000</td>\n      <td>3.000000</td>\n      <td>999.000000</td>\n      <td>0.000000</td>\n      <td>1.400000</td>\n      <td>93.994000</td>\n      <td>-36.400000</td>\n      <td>4.961000</td>\n      <td>5228.100000</td>\n    </tr>\n    <tr>\n      <th>max</th>\n      <td>88.000000</td>\n      <td>3643.000000</td>\n      <td>35.000000</td>\n      <td>999.000000</td>\n      <td>6.000000</td>\n      <td>1.400000</td>\n      <td>94.767000</td>\n      <td>-26.900000</td>\n      <td>5.045000</td>\n      <td>5228.100000</td>\n    </tr>\n  </tbody>\n</table>\n</div>",
            "text/plain": "               age     duration     campaign        pdays     previous  \\\ncount  4119.000000  4119.000000  4119.000000  4119.000000  4119.000000   \nmean     40.113620   256.788055     2.537266   960.422190     0.190337   \nstd      10.313362   254.703736     2.568159   191.922786     0.541788   \nmin      18.000000     0.000000     1.000000     0.000000     0.000000   \n25%      32.000000   103.000000     1.000000   999.000000     0.000000   \n50%      38.000000   181.000000     2.000000   999.000000     0.000000   \n75%      47.000000   317.000000     3.000000   999.000000     0.000000   \nmax      88.000000  3643.000000    35.000000   999.000000     6.000000   \n\n       emp.var.rate  cons.price.idx  cons.conf.idx    euribor3m  nr.employed  \ncount   4119.000000     4119.000000    4119.000000  4119.000000  4119.000000  \nmean       0.084972       93.579704     -40.499102     3.621356  5166.481695  \nstd        1.563114        0.579349       4.594578     1.733591    73.667904  \nmin       -3.400000       92.201000     -50.800000     0.635000  4963.600000  \n25%       -1.800000       93.075000     -42.700000     1.334000  5099.100000  \n50%        1.100000       93.749000     -41.800000     4.857000  5191.000000  \n75%        1.400000       93.994000     -36.400000     4.961000  5228.100000  \nmax        1.400000       94.767000     -26.900000     5.045000  5228.100000  "
          },
          "metadata": {}
        }
      ]
    },
    {
      "metadata": {
        "trusted": true
      },
      "cell_type": "code",
      "source": "data.info()",
      "execution_count": 49,
      "outputs": [
        {
          "output_type": "stream",
          "text": "<class 'pandas.core.frame.DataFrame'>\nRangeIndex: 4119 entries, 0 to 4118\nData columns (total 21 columns):\nage               4119 non-null int64\njob               4119 non-null object\nmarital           4119 non-null object\neducation         4119 non-null object\ndefault           4119 non-null object\nhousing           4119 non-null object\nloan              4119 non-null object\ncontact           4119 non-null object\nmonth             4119 non-null object\nday_of_week       4119 non-null object\nduration          4119 non-null int64\ncampaign          4119 non-null int64\npdays             4119 non-null int64\nprevious          4119 non-null int64\npoutcome          4119 non-null object\nemp.var.rate      4119 non-null float64\ncons.price.idx    4119 non-null float64\ncons.conf.idx     4119 non-null float64\neuribor3m         4119 non-null float64\nnr.employed       4119 non-null float64\ny                 4119 non-null object\ndtypes: float64(5), int64(5), object(11)\nmemory usage: 675.9+ KB\n",
          "name": "stdout"
        }
      ]
    },
    {
      "metadata": {
        "trusted": true
      },
      "cell_type": "code",
      "source": "col=data.select_dtypes(include=['object'])\ncol.head()",
      "execution_count": 50,
      "outputs": [
        {
          "output_type": "execute_result",
          "execution_count": 50,
          "data": {
            "text/html": "<div>\n<style scoped>\n    .dataframe tbody tr th:only-of-type {\n        vertical-align: middle;\n    }\n\n    .dataframe tbody tr th {\n        vertical-align: top;\n    }\n\n    .dataframe thead th {\n        text-align: right;\n    }\n</style>\n<table border=\"1\" class=\"dataframe\">\n  <thead>\n    <tr style=\"text-align: right;\">\n      <th></th>\n      <th>job</th>\n      <th>marital</th>\n      <th>education</th>\n      <th>default</th>\n      <th>housing</th>\n      <th>loan</th>\n      <th>contact</th>\n      <th>month</th>\n      <th>day_of_week</th>\n      <th>poutcome</th>\n      <th>y</th>\n    </tr>\n  </thead>\n  <tbody>\n    <tr>\n      <th>0</th>\n      <td>blue-collar</td>\n      <td>married</td>\n      <td>basic.9y</td>\n      <td>no</td>\n      <td>yes</td>\n      <td>no</td>\n      <td>cellular</td>\n      <td>may</td>\n      <td>fri</td>\n      <td>nonexistent</td>\n      <td>no</td>\n    </tr>\n    <tr>\n      <th>1</th>\n      <td>services</td>\n      <td>single</td>\n      <td>high.school</td>\n      <td>no</td>\n      <td>no</td>\n      <td>no</td>\n      <td>telephone</td>\n      <td>may</td>\n      <td>fri</td>\n      <td>nonexistent</td>\n      <td>no</td>\n    </tr>\n    <tr>\n      <th>2</th>\n      <td>services</td>\n      <td>married</td>\n      <td>high.school</td>\n      <td>no</td>\n      <td>yes</td>\n      <td>no</td>\n      <td>telephone</td>\n      <td>jun</td>\n      <td>wed</td>\n      <td>nonexistent</td>\n      <td>no</td>\n    </tr>\n    <tr>\n      <th>3</th>\n      <td>services</td>\n      <td>married</td>\n      <td>basic.9y</td>\n      <td>no</td>\n      <td>unknown</td>\n      <td>unknown</td>\n      <td>telephone</td>\n      <td>jun</td>\n      <td>fri</td>\n      <td>nonexistent</td>\n      <td>no</td>\n    </tr>\n    <tr>\n      <th>4</th>\n      <td>admin.</td>\n      <td>married</td>\n      <td>university.degree</td>\n      <td>no</td>\n      <td>yes</td>\n      <td>no</td>\n      <td>cellular</td>\n      <td>nov</td>\n      <td>mon</td>\n      <td>nonexistent</td>\n      <td>no</td>\n    </tr>\n  </tbody>\n</table>\n</div>",
            "text/plain": "           job  marital          education default  housing     loan  \\\n0  blue-collar  married           basic.9y      no      yes       no   \n1     services   single        high.school      no       no       no   \n2     services  married        high.school      no      yes       no   \n3     services  married           basic.9y      no  unknown  unknown   \n4       admin.  married  university.degree      no      yes       no   \n\n     contact month day_of_week     poutcome   y  \n0   cellular   may         fri  nonexistent  no  \n1  telephone   may         fri  nonexistent  no  \n2  telephone   jun         wed  nonexistent  no  \n3  telephone   jun         fri  nonexistent  no  \n4   cellular   nov         mon  nonexistent  no  "
          },
          "metadata": {}
        }
      ]
    },
    {
      "metadata": {
        "trusted": true
      },
      "cell_type": "code",
      "source": "columns=col.columns\nprint(columns)",
      "execution_count": 51,
      "outputs": [
        {
          "output_type": "stream",
          "text": "Index(['job', 'marital', 'education', 'default', 'housing', 'loan', 'contact',\n       'month', 'day_of_week', 'poutcome', 'y'],\n      dtype='object')\n",
          "name": "stdout"
        }
      ]
    },
    {
      "metadata": {
        "trusted": true
      },
      "cell_type": "code",
      "source": "print('marital:\\n', col['marital'].unique())",
      "execution_count": 52,
      "outputs": [
        {
          "output_type": "stream",
          "text": "marital:\n ['married' 'single' 'divorced' 'unknown']\n",
          "name": "stdout"
        }
      ]
    },
    {
      "metadata": {
        "trusted": true
      },
      "cell_type": "code",
      "source": "# knowing the categorical variables\nprint('Jobs:\\n', col['job'].unique())",
      "execution_count": 53,
      "outputs": [
        {
          "output_type": "stream",
          "text": "Jobs:\n ['blue-collar' 'services' 'admin.' 'entrepreneur' 'self-employed'\n 'technician' 'management' 'student' 'retired' 'housemaid' 'unemployed'\n 'unknown']\n",
          "name": "stdout"
        }
      ]
    },
    {
      "metadata": {
        "trusted": true
      },
      "cell_type": "code",
      "source": "data.hist(figsize=(10, 10), bins=50, xlabelsize=8, ylabelsize=8); # ; avoid having the matplotlib verbose informations",
      "execution_count": 54,
      "outputs": [
        {
          "output_type": "display_data",
          "data": {
            "image/png": "[encoded data removed]",
            "text/plain": "<Figure size 720x720 with 12 Axes>"
          },
          "metadata": {
            "needs_background": "light"
          }
        }
      ]
    },
    {
      "metadata": {
        "trusted": true
      },
      "cell_type": "code",
      "source": "# Convert target variable into numeric\ndata.y = data.y.map({'no':0, 'yes':1})",
      "execution_count": 55,
      "outputs": []
    },
    {
      "metadata": {
        "trusted": true
      },
      "cell_type": "code",
      "source": "# Replacing values with binary ()\ndata.contact = data.contact.map({'cellular': 1, 'telephone': 0})\ndata.loan = data.loan.map({'yes': 1, 'unknown': 0, 'no' : 0})\ndata.housing = data.housing.map({'yes': 1, 'unknown': 0, 'no' : 0})\ndata.default = data.default.map({'no': 1, 'unknown': 0, 'yes': 0})\ndata.pdays = data.pdays.replace(999, 0) # replace with 0 if not contact ",
      "execution_count": 56,
      "outputs": []
    },
    {
      "metadata": {
        "trusted": true
      },
      "cell_type": "code",
      "source": "# binary if were was an outcome of marketing campane\ndata.poutcome = data.poutcome.map({'nonexistent':0, 'failure':0, 'success':1})",
      "execution_count": 57,
      "outputs": []
    },
    {
      "metadata": {
        "trusted": true
      },
      "cell_type": "code",
      "source": "data = pd.get_dummies(data, columns=['job', 'marital', 'education', 'month', 'day_of_week'],drop_first=True)",
      "execution_count": 58,
      "outputs": []
    },
    {
      "metadata": {
        "trusted": true
      },
      "cell_type": "code",
      "source": "data.head()",
      "execution_count": 59,
      "outputs": [
        {
          "output_type": "execute_result",
          "execution_count": 59,
          "data": {
            "text/html": "<div>\n<style scoped>\n    .dataframe tbody tr th:only-of-type {\n        vertical-align: middle;\n    }\n\n    .dataframe tbody tr th {\n        vertical-align: top;\n    }\n\n    .dataframe thead th {\n        text-align: right;\n    }\n</style>\n<table border=\"1\" class=\"dataframe\">\n  <thead>\n    <tr style=\"text-align: right;\">\n      <th></th>\n      <th>age</th>\n      <th>default</th>\n      <th>housing</th>\n      <th>loan</th>\n      <th>contact</th>\n      <th>duration</th>\n      <th>campaign</th>\n      <th>pdays</th>\n      <th>previous</th>\n      <th>poutcome</th>\n      <th>...</th>\n      <th>month_jun</th>\n      <th>month_mar</th>\n      <th>month_may</th>\n      <th>month_nov</th>\n      <th>month_oct</th>\n      <th>month_sep</th>\n      <th>day_of_week_mon</th>\n      <th>day_of_week_thu</th>\n      <th>day_of_week_tue</th>\n      <th>day_of_week_wed</th>\n    </tr>\n  </thead>\n  <tbody>\n    <tr>\n      <th>0</th>\n      <td>30</td>\n      <td>1</td>\n      <td>1</td>\n      <td>0</td>\n      <td>1</td>\n      <td>487</td>\n      <td>2</td>\n      <td>0</td>\n      <td>0</td>\n      <td>0</td>\n      <td>...</td>\n      <td>0</td>\n      <td>0</td>\n      <td>1</td>\n      <td>0</td>\n      <td>0</td>\n      <td>0</td>\n      <td>0</td>\n      <td>0</td>\n      <td>0</td>\n      <td>0</td>\n    </tr>\n    <tr>\n      <th>1</th>\n      <td>39</td>\n      <td>1</td>\n      <td>0</td>\n      <td>0</td>\n      <td>0</td>\n      <td>346</td>\n      <td>4</td>\n      <td>0</td>\n      <td>0</td>\n      <td>0</td>\n      <td>...</td>\n      <td>0</td>\n      <td>0</td>\n      <td>1</td>\n      <td>0</td>\n      <td>0</td>\n      <td>0</td>\n      <td>0</td>\n      <td>0</td>\n      <td>0</td>\n      <td>0</td>\n    </tr>\n    <tr>\n      <th>2</th>\n      <td>25</td>\n      <td>1</td>\n      <td>1</td>\n      <td>0</td>\n      <td>0</td>\n      <td>227</td>\n      <td>1</td>\n      <td>0</td>\n      <td>0</td>\n      <td>0</td>\n      <td>...</td>\n      <td>1</td>\n      <td>0</td>\n      <td>0</td>\n      <td>0</td>\n      <td>0</td>\n      <td>0</td>\n      <td>0</td>\n      <td>0</td>\n      <td>0</td>\n      <td>1</td>\n    </tr>\n    <tr>\n      <th>3</th>\n      <td>38</td>\n      <td>1</td>\n      <td>0</td>\n      <td>0</td>\n      <td>0</td>\n      <td>17</td>\n      <td>3</td>\n      <td>0</td>\n      <td>0</td>\n      <td>0</td>\n      <td>...</td>\n      <td>1</td>\n      <td>0</td>\n      <td>0</td>\n      <td>0</td>\n      <td>0</td>\n      <td>0</td>\n      <td>0</td>\n      <td>0</td>\n      <td>0</td>\n      <td>0</td>\n    </tr>\n    <tr>\n      <th>4</th>\n      <td>47</td>\n      <td>1</td>\n      <td>1</td>\n      <td>0</td>\n      <td>1</td>\n      <td>58</td>\n      <td>1</td>\n      <td>0</td>\n      <td>0</td>\n      <td>0</td>\n      <td>...</td>\n      <td>0</td>\n      <td>0</td>\n      <td>0</td>\n      <td>1</td>\n      <td>0</td>\n      <td>0</td>\n      <td>1</td>\n      <td>0</td>\n      <td>0</td>\n      <td>0</td>\n    </tr>\n  </tbody>\n</table>\n<p>5 rows × 50 columns</p>\n</div>",
            "text/plain": "   age  default  housing  loan  contact  duration  campaign  pdays  previous  \\\n0   30        1        1     0        1       487         2      0         0   \n1   39        1        0     0        0       346         4      0         0   \n2   25        1        1     0        0       227         1      0         0   \n3   38        1        0     0        0        17         3      0         0   \n4   47        1        1     0        1        58         1      0         0   \n\n   poutcome       ...         month_jun  month_mar  month_may  month_nov  \\\n0         0       ...                 0          0          1          0   \n1         0       ...                 0          0          1          0   \n2         0       ...                 1          0          0          0   \n3         0       ...                 1          0          0          0   \n4         0       ...                 0          0          0          1   \n\n   month_oct  month_sep  day_of_week_mon  day_of_week_thu  day_of_week_tue  \\\n0          0          0                0                0                0   \n1          0          0                0                0                0   \n2          0          0                0                0                0   \n3          0          0                0                0                0   \n4          0          0                1                0                0   \n\n   day_of_week_wed  \n0                0  \n1                0  \n2                1  \n3                0  \n4                0  \n\n[5 rows x 50 columns]"
          },
          "metadata": {}
        }
      ]
    },
    {
      "metadata": {},
      "cell_type": "markdown",
      "source": "#Convert Duration Call into 5 category'''\ndef duration(data):\n    data.loc[data['duration'] <= 102, 'duration'] = 1\n    data.loc[(data['duration'] > 102) & (data['duration'] <= 180)  , 'duration'] = 2\n    data.loc[(data['duration'] > 180) & (data['duration'] <= 319)  , 'duration'] = 3\n    data.loc[(data['duration'] > 319) & (data['duration'] <= 645), 'duration'] = 4\n    data.loc[data['duration']  > 645, 'duration'] = 5\n    return data\nduration(data);"
    },
    {
      "metadata": {
        "trusted": true
      },
      "cell_type": "code",
      "source": "y = data.y",
      "execution_count": 60,
      "outputs": []
    },
    {
      "metadata": {
        "trusted": true
      },
      "cell_type": "code",
      "source": "x = data.copy()\ndel x['y']\nx.head(2)",
      "execution_count": 61,
      "outputs": [
        {
          "output_type": "execute_result",
          "execution_count": 61,
          "data": {
            "text/html": "<div>\n<style scoped>\n    .dataframe tbody tr th:only-of-type {\n        vertical-align: middle;\n    }\n\n    .dataframe tbody tr th {\n        vertical-align: top;\n    }\n\n    .dataframe thead th {\n        text-align: right;\n    }\n</style>\n<table border=\"1\" class=\"dataframe\">\n  <thead>\n    <tr style=\"text-align: right;\">\n      <th></th>\n      <th>age</th>\n      <th>default</th>\n      <th>housing</th>\n      <th>loan</th>\n      <th>contact</th>\n      <th>duration</th>\n      <th>campaign</th>\n      <th>pdays</th>\n      <th>previous</th>\n      <th>poutcome</th>\n      <th>...</th>\n      <th>month_jun</th>\n      <th>month_mar</th>\n      <th>month_may</th>\n      <th>month_nov</th>\n      <th>month_oct</th>\n      <th>month_sep</th>\n      <th>day_of_week_mon</th>\n      <th>day_of_week_thu</th>\n      <th>day_of_week_tue</th>\n      <th>day_of_week_wed</th>\n    </tr>\n  </thead>\n  <tbody>\n    <tr>\n      <th>0</th>\n      <td>30</td>\n      <td>1</td>\n      <td>1</td>\n      <td>0</td>\n      <td>1</td>\n      <td>487</td>\n      <td>2</td>\n      <td>0</td>\n      <td>0</td>\n      <td>0</td>\n      <td>...</td>\n      <td>0</td>\n      <td>0</td>\n      <td>1</td>\n      <td>0</td>\n      <td>0</td>\n      <td>0</td>\n      <td>0</td>\n      <td>0</td>\n      <td>0</td>\n      <td>0</td>\n    </tr>\n    <tr>\n      <th>1</th>\n      <td>39</td>\n      <td>1</td>\n      <td>0</td>\n      <td>0</td>\n      <td>0</td>\n      <td>346</td>\n      <td>4</td>\n      <td>0</td>\n      <td>0</td>\n      <td>0</td>\n      <td>...</td>\n      <td>0</td>\n      <td>0</td>\n      <td>1</td>\n      <td>0</td>\n      <td>0</td>\n      <td>0</td>\n      <td>0</td>\n      <td>0</td>\n      <td>0</td>\n      <td>0</td>\n    </tr>\n  </tbody>\n</table>\n<p>2 rows × 49 columns</p>\n</div>",
            "text/plain": "   age  default  housing  loan  contact  duration  campaign  pdays  previous  \\\n0   30        1        1     0        1       487         2      0         0   \n1   39        1        0     0        0       346         4      0         0   \n\n   poutcome       ...         month_jun  month_mar  month_may  month_nov  \\\n0         0       ...                 0          0          1          0   \n1         0       ...                 0          0          1          0   \n\n   month_oct  month_sep  day_of_week_mon  day_of_week_thu  day_of_week_tue  \\\n0          0          0                0                0                0   \n1          0          0                0                0                0   \n\n   day_of_week_wed  \n0                0  \n1                0  \n\n[2 rows x 49 columns]"
          },
          "metadata": {}
        }
      ]
    },
    {
      "metadata": {
        "trusted": true
      },
      "cell_type": "code",
      "source": "x.columns",
      "execution_count": 62,
      "outputs": [
        {
          "output_type": "execute_result",
          "execution_count": 62,
          "data": {
            "text/plain": "Index(['age', 'default', 'housing', 'loan', 'contact', 'duration', 'campaign',\n       'pdays', 'previous', 'poutcome', 'emp.var.rate', 'cons.price.idx',\n       'cons.conf.idx', 'euribor3m', 'nr.employed', 'job_blue-collar',\n       'job_entrepreneur', 'job_housemaid', 'job_management', 'job_retired',\n       'job_self-employed', 'job_services', 'job_student', 'job_technician',\n       'job_unemployed', 'job_unknown', 'marital_married', 'marital_single',\n       'marital_unknown', 'education_basic.6y', 'education_basic.9y',\n       'education_high.school', 'education_illiterate',\n       'education_professional.course', 'education_university.degree',\n       'education_unknown', 'month_aug', 'month_dec', 'month_jul', 'month_jun',\n       'month_mar', 'month_may', 'month_nov', 'month_oct', 'month_sep',\n       'day_of_week_mon', 'day_of_week_thu', 'day_of_week_tue',\n       'day_of_week_wed'],\n      dtype='object')"
          },
          "metadata": {}
        }
      ]
    },
    {
      "metadata": {
        "trusted": true
      },
      "cell_type": "code",
      "source": "# Build correlation matrix\n#corr = data.corr()\n#corr.style.background_gradient(cmap='PuBu')",
      "execution_count": 63,
      "outputs": []
    },
    {
      "metadata": {
        "trusted": true
      },
      "cell_type": "code",
      "source": "from sklearn.preprocessing import StandardScaler\nstd_scaler = StandardScaler()",
      "execution_count": 64,
      "outputs": []
    },
    {
      "metadata": {
        "trusted": true
      },
      "cell_type": "code",
      "source": "std_scaler.fit(x)",
      "execution_count": 65,
      "outputs": [
        {
          "output_type": "stream",
          "text": "/home/nbuser/anaconda3_501/lib/python3.6/site-packages/sklearn/preprocessing/data.py:645: DataConversionWarning: Data with input dtype uint8, int64, float64 were all converted to float64 by StandardScaler.\n  return self.partial_fit(X, y)\n",
          "name": "stderr"
        },
        {
          "output_type": "execute_result",
          "execution_count": 65,
          "data": {
            "text/plain": "StandardScaler(copy=True, with_mean=True, with_std=True)"
          },
          "metadata": {}
        }
      ]
    },
    {
      "metadata": {
        "trusted": true
      },
      "cell_type": "code",
      "source": "scaled_x=std_scaler.transform(x)",
      "execution_count": 66,
      "outputs": [
        {
          "output_type": "stream",
          "text": "/home/nbuser/anaconda3_501/lib/python3.6/site-packages/ipykernel/__main__.py:1: DataConversionWarning: Data with input dtype uint8, int64, float64 were all converted to float64 by StandardScaler.\n  if __name__ == '__main__':\n",
          "name": "stderr"
        }
      ]
    },
    {
      "metadata": {
        "trusted": true
      },
      "cell_type": "code",
      "source": "data_x = pd.DataFrame(scaled_x)",
      "execution_count": 67,
      "outputs": []
    },
    {
      "metadata": {
        "trusted": true
      },
      "cell_type": "code",
      "source": "data_x.columns = ['age', 'default', 'housing', 'loan', 'contact', 'duration', 'campaign',\n       'pdays', 'previous', 'poutcome', 'emp.var.rate', 'cons.price.idx',\n       'cons.conf.idx', 'euribor3m', 'nr.employed', 'job_blue-collar',\n       'job_entrepreneur', 'job_housemaid', 'job_management', 'job_retired',\n       'job_self-employed', 'job_services', 'job_student', 'job_technician',\n       'job_unemployed', 'job_unknown', 'marital_married', 'marital_single',\n       'marital_unknown', 'education_basic.6y', 'education_basic.9y',\n       'education_high.school', 'education_illiterate',\n       'education_professional.course', 'education_university.degree',\n       'education_unknown', 'month_aug', 'month_dec', 'month_jul', 'month_jun',\n       'month_mar', 'month_may', 'month_nov', 'month_oct', 'month_sep',\n       'day_of_week_mon', 'day_of_week_thu', 'day_of_week_tue',\n       'day_of_week_wed']",
      "execution_count": 68,
      "outputs": []
    },
    {
      "metadata": {
        "trusted": true
      },
      "cell_type": "code",
      "source": "data_x.head()",
      "execution_count": 69,
      "outputs": [
        {
          "output_type": "execute_result",
          "execution_count": 69,
          "data": {
            "text/html": "<div>\n<style scoped>\n    .dataframe tbody tr th:only-of-type {\n        vertical-align: middle;\n    }\n\n    .dataframe tbody tr th {\n        vertical-align: top;\n    }\n\n    .dataframe thead th {\n        text-align: right;\n    }\n</style>\n<table border=\"1\" class=\"dataframe\">\n  <thead>\n    <tr style=\"text-align: right;\">\n      <th></th>\n      <th>age</th>\n      <th>default</th>\n      <th>housing</th>\n      <th>loan</th>\n      <th>contact</th>\n      <th>duration</th>\n      <th>campaign</th>\n      <th>pdays</th>\n      <th>previous</th>\n      <th>poutcome</th>\n      <th>...</th>\n      <th>month_jun</th>\n      <th>month_mar</th>\n      <th>month_may</th>\n      <th>month_nov</th>\n      <th>month_oct</th>\n      <th>month_sep</th>\n      <th>day_of_week_mon</th>\n      <th>day_of_week_thu</th>\n      <th>day_of_week_tue</th>\n      <th>day_of_week_wed</th>\n    </tr>\n  </thead>\n  <tbody>\n    <tr>\n      <th>0</th>\n      <td>-0.980752</td>\n      <td>0.492477</td>\n      <td>0.945406</td>\n      <td>-0.438783</td>\n      <td>0.743752</td>\n      <td>0.903952</td>\n      <td>-0.209228</td>\n      <td>-0.166358</td>\n      <td>-0.351356</td>\n      <td>-0.188958</td>\n      <td>...</td>\n      <td>-0.384283</td>\n      <td>-0.108585</td>\n      <td>1.410360</td>\n      <td>-0.348463</td>\n      <td>-0.130526</td>\n      <td>-0.12563</td>\n      <td>-0.511809</td>\n      <td>-0.513697</td>\n      <td>-0.506516</td>\n      <td>-0.489050</td>\n    </tr>\n    <tr>\n      <th>1</th>\n      <td>-0.107991</td>\n      <td>0.492477</td>\n      <td>-1.057746</td>\n      <td>-0.438783</td>\n      <td>-1.344534</td>\n      <td>0.350300</td>\n      <td>0.569634</td>\n      <td>-0.166358</td>\n      <td>-0.351356</td>\n      <td>-0.188958</td>\n      <td>...</td>\n      <td>-0.384283</td>\n      <td>-0.108585</td>\n      <td>1.410360</td>\n      <td>-0.348463</td>\n      <td>-0.130526</td>\n      <td>-0.12563</td>\n      <td>-0.511809</td>\n      <td>-0.513697</td>\n      <td>-0.506516</td>\n      <td>-0.489050</td>\n    </tr>\n    <tr>\n      <th>2</th>\n      <td>-1.465619</td>\n      <td>0.492477</td>\n      <td>0.945406</td>\n      <td>-0.438783</td>\n      <td>-1.344534</td>\n      <td>-0.116966</td>\n      <td>-0.598660</td>\n      <td>-0.166358</td>\n      <td>-0.351356</td>\n      <td>-0.188958</td>\n      <td>...</td>\n      <td>2.602249</td>\n      <td>-0.108585</td>\n      <td>-0.709039</td>\n      <td>-0.348463</td>\n      <td>-0.130526</td>\n      <td>-0.12563</td>\n      <td>-0.511809</td>\n      <td>-0.513697</td>\n      <td>-0.506516</td>\n      <td>2.044782</td>\n    </tr>\n    <tr>\n      <th>3</th>\n      <td>-0.204965</td>\n      <td>0.492477</td>\n      <td>-1.057746</td>\n      <td>-0.438783</td>\n      <td>-1.344534</td>\n      <td>-0.941553</td>\n      <td>0.180203</td>\n      <td>-0.166358</td>\n      <td>-0.351356</td>\n      <td>-0.188958</td>\n      <td>...</td>\n      <td>2.602249</td>\n      <td>-0.108585</td>\n      <td>-0.709039</td>\n      <td>-0.348463</td>\n      <td>-0.130526</td>\n      <td>-0.12563</td>\n      <td>-0.511809</td>\n      <td>-0.513697</td>\n      <td>-0.506516</td>\n      <td>-0.489050</td>\n    </tr>\n    <tr>\n      <th>4</th>\n      <td>0.667795</td>\n      <td>0.492477</td>\n      <td>0.945406</td>\n      <td>-0.438783</td>\n      <td>0.743752</td>\n      <td>-0.780563</td>\n      <td>-0.598660</td>\n      <td>-0.166358</td>\n      <td>-0.351356</td>\n      <td>-0.188958</td>\n      <td>...</td>\n      <td>-0.384283</td>\n      <td>-0.108585</td>\n      <td>-0.709039</td>\n      <td>2.869743</td>\n      <td>-0.130526</td>\n      <td>-0.12563</td>\n      <td>1.953854</td>\n      <td>-0.513697</td>\n      <td>-0.506516</td>\n      <td>-0.489050</td>\n    </tr>\n  </tbody>\n</table>\n<p>5 rows × 49 columns</p>\n</div>",
            "text/plain": "        age   default   housing      loan   contact  duration  campaign  \\\n0 -0.980752  0.492477  0.945406 -0.438783  0.743752  0.903952 -0.209228   \n1 -0.107991  0.492477 -1.057746 -0.438783 -1.344534  0.350300  0.569634   \n2 -1.465619  0.492477  0.945406 -0.438783 -1.344534 -0.116966 -0.598660   \n3 -0.204965  0.492477 -1.057746 -0.438783 -1.344534 -0.941553  0.180203   \n4  0.667795  0.492477  0.945406 -0.438783  0.743752 -0.780563 -0.598660   \n\n      pdays  previous  poutcome       ...         month_jun  month_mar  \\\n0 -0.166358 -0.351356 -0.188958       ...         -0.384283  -0.108585   \n1 -0.166358 -0.351356 -0.188958       ...         -0.384283  -0.108585   \n2 -0.166358 -0.351356 -0.188958       ...          2.602249  -0.108585   \n3 -0.166358 -0.351356 -0.188958       ...          2.602249  -0.108585   \n4 -0.166358 -0.351356 -0.188958       ...         -0.384283  -0.108585   \n\n   month_may  month_nov  month_oct  month_sep  day_of_week_mon  \\\n0   1.410360  -0.348463  -0.130526   -0.12563        -0.511809   \n1   1.410360  -0.348463  -0.130526   -0.12563        -0.511809   \n2  -0.709039  -0.348463  -0.130526   -0.12563        -0.511809   \n3  -0.709039  -0.348463  -0.130526   -0.12563        -0.511809   \n4  -0.709039   2.869743  -0.130526   -0.12563         1.953854   \n\n   day_of_week_thu  day_of_week_tue  day_of_week_wed  \n0        -0.513697        -0.506516        -0.489050  \n1        -0.513697        -0.506516        -0.489050  \n2        -0.513697        -0.506516         2.044782  \n3        -0.513697        -0.506516        -0.489050  \n4        -0.513697        -0.506516        -0.489050  \n\n[5 rows x 49 columns]"
          },
          "metadata": {}
        }
      ]
    },
    {
      "metadata": {
        "trusted": true
      },
      "cell_type": "code",
      "source": "x_train,x_test,y_train,y_test = train_test_split(data_x,y,test_size=0.2,random_state=42)",
      "execution_count": 70,
      "outputs": []
    },
    {
      "metadata": {
        "trusted": true
      },
      "cell_type": "code",
      "source": "x_train.shape,x_test.shape,y_train.shape,y_test.shape",
      "execution_count": 71,
      "outputs": [
        {
          "output_type": "execute_result",
          "execution_count": 71,
          "data": {
            "text/plain": "((3295, 49), (824, 49), (3295,), (824,))"
          },
          "metadata": {}
        }
      ]
    },
    {
      "metadata": {},
      "cell_type": "markdown",
      "source": "# model building"
    },
    {
      "metadata": {
        "trusted": true
      },
      "cell_type": "code",
      "source": "!pip install xgboost\n",
      "execution_count": 72,
      "outputs": [
        {
          "output_type": "stream",
          "text": "Requirement already satisfied: xgboost in /home/nbuser/anaconda3_501/lib/python3.6/site-packages (0.90)\nRequirement already satisfied: scipy in /home/nbuser/anaconda3_501/lib/python3.6/site-packages (from xgboost) (1.1.0)\nRequirement already satisfied: numpy in /home/nbuser/anaconda3_501/lib/python3.6/site-packages (from xgboost) (1.16.2)\n\u001b[33mWARNING: You are using pip version 19.3.1; however, version 20.0.2 is available.\nYou should consider upgrading via the 'pip install --upgrade pip' command.\u001b[0m\n",
          "name": "stdout"
        }
      ]
    },
    {
      "metadata": {
        "trusted": true
      },
      "cell_type": "code",
      "source": "#boosting\nfrom xgboost.sklearn import XGBClassifier\nmodel_xgb =  XGBClassifier(n_estimators=1000,learning_rate = 0.1)",
      "execution_count": 73,
      "outputs": []
    },
    {
      "metadata": {
        "trusted": true
      },
      "cell_type": "code",
      "source": "model_xgb.fit(x_train,y_train)",
      "execution_count": 74,
      "outputs": [
        {
          "output_type": "execute_result",
          "execution_count": 74,
          "data": {
            "text/plain": "XGBClassifier(base_score=0.5, booster='gbtree', colsample_bylevel=1,\n       colsample_bynode=1, colsample_bytree=1, gamma=0, learning_rate=0.1,\n       max_delta_step=0, max_depth=3, min_child_weight=1, missing=None,\n       n_estimators=1000, n_jobs=1, nthread=None,\n       objective='binary:logistic', random_state=0, reg_alpha=0,\n       reg_lambda=1, scale_pos_weight=1, seed=None, silent=None,\n       subsample=1, verbosity=1)"
          },
          "metadata": {}
        }
      ]
    },
    {
      "metadata": {
        "trusted": true
      },
      "cell_type": "code",
      "source": "model_xgb.score(x_train,y_train)",
      "execution_count": 75,
      "outputs": [
        {
          "output_type": "execute_result",
          "execution_count": 75,
          "data": {
            "text/plain": "0.9942336874051594"
          },
          "metadata": {}
        }
      ]
    },
    {
      "metadata": {
        "trusted": true
      },
      "cell_type": "code",
      "source": "#testing on test data",
      "execution_count": 76,
      "outputs": []
    },
    {
      "metadata": {
        "trusted": true
      },
      "cell_type": "code",
      "source": "y_pred = model_xgb.predict(x_test)\n#y_pred\n",
      "execution_count": 77,
      "outputs": []
    },
    {
      "metadata": {
        "trusted": true
      },
      "cell_type": "code",
      "source": "accuracy_score(y_test,y_pred)",
      "execution_count": 78,
      "outputs": [
        {
          "output_type": "execute_result",
          "execution_count": 78,
          "data": {
            "text/plain": "0.9053398058252428"
          },
          "metadata": {}
        }
      ]
    },
    {
      "metadata": {
        "trusted": true
      },
      "cell_type": "code",
      "source": "#apply cv\nfrom sklearn.model_selection import GridSearchCV\nparameters = {'max_depth': [3,5,7],'n_estimators': [250, 500, 750]}",
      "execution_count": 79,
      "outputs": []
    },
    {
      "metadata": {
        "trusted": true
      },
      "cell_type": "code",
      "source": "model1_cv = GridSearchCV(model_xgb,parameters,cv=5,scoring='accuracy')",
      "execution_count": 80,
      "outputs": []
    },
    {
      "metadata": {
        "trusted": true
      },
      "cell_type": "code",
      "source": "model1_cv.fit(x_train,y_train)",
      "execution_count": 81,
      "outputs": [
        {
          "output_type": "execute_result",
          "execution_count": 81,
          "data": {
            "text/plain": "GridSearchCV(cv=5, error_score='raise-deprecating',\n       estimator=XGBClassifier(base_score=0.5, booster='gbtree', colsample_bylevel=1,\n       colsample_bynode=1, colsample_bytree=1, gamma=0, learning_rate=0.1,\n       max_delta_step=0, max_depth=3, min_child_weight=1, missing=None,\n       n_estimators=1000, n_jobs=1, nthread=None,\n       objective='binary:logistic', random_state=0, reg_alpha=0,\n       reg_lambda=1, scale_pos_weight=1, seed=None, silent=None,\n       subsample=1, verbosity=1),\n       fit_params=None, iid='warn', n_jobs=None,\n       param_grid={'max_depth': [3, 5, 7], 'n_estimators': [250, 500, 750]},\n       pre_dispatch='2*n_jobs', refit=True, return_train_score='warn',\n       scoring='accuracy', verbose=0)"
          },
          "metadata": {}
        }
      ]
    },
    {
      "metadata": {
        "trusted": true
      },
      "cell_type": "code",
      "source": "model1_cv.best_params_",
      "execution_count": 82,
      "outputs": [
        {
          "output_type": "execute_result",
          "execution_count": 82,
          "data": {
            "text/plain": "{'max_depth': 7, 'n_estimators': 250}"
          },
          "metadata": {}
        }
      ]
    },
    {
      "metadata": {
        "trusted": true
      },
      "cell_type": "code",
      "source": "model_cv = XGBClassifier(n_estimators=250,max_features=5,random_state=100,max_depth=7)\nmodel_cv.fit(x_train,y_train)",
      "execution_count": 83,
      "outputs": [
        {
          "output_type": "execute_result",
          "execution_count": 83,
          "data": {
            "text/plain": "XGBClassifier(base_score=0.5, booster='gbtree', colsample_bylevel=1,\n       colsample_bynode=1, colsample_bytree=1, gamma=0, learning_rate=0.1,\n       max_delta_step=0, max_depth=7, max_features=5, min_child_weight=1,\n       missing=None, n_estimators=750, n_jobs=1, nthread=None,\n       objective='binary:logistic', oob_score=True, random_state=100,\n       reg_alpha=0, reg_lambda=1, scale_pos_weight=1, seed=None,\n       silent=None, subsample=1, verbose=1, verbosity=1)"
          },
          "metadata": {}
        }
      ]
    },
    {
      "metadata": {
        "trusted": true
      },
      "cell_type": "code",
      "source": "y_pred_=model_cv.predict(x_test)",
      "execution_count": 85,
      "outputs": []
    },
    {
      "metadata": {
        "trusted": true
      },
      "cell_type": "code",
      "source": "accuracy_score(y_test,y_pred_)",
      "execution_count": 86,
      "outputs": [
        {
          "output_type": "execute_result",
          "execution_count": 86,
          "data": {
            "text/plain": "0.904126213592233"
          },
          "metadata": {}
        }
      ]
    },
    {
      "metadata": {
        "trusted": true
      },
      "cell_type": "code",
      "source": "",
      "execution_count": null,
      "outputs": []
    }
  ],
  "metadata": {
    "kernelspec": {
      "name": "python36",
      "display_name": "Python 3.6",
      "language": "python"
    },
    "language_info": {
      "mimetype": "text/x-python",
      "nbconvert_exporter": "python",
      "name": "python",
      "pygments_lexer": "ipython3",
      "version": "3.6.6",
      "file_extension": ".py",
      "codemirror_mode": {
        "version": 3,
        "name": "ipython"
      }
    }
  },
  "nbformat": 4,
  "nbformat_minor": 2
}